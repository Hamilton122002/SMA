{
  "nbformat": 4,
  "nbformat_minor": 0,
  "metadata": {
    "colab": {
      "provenance": []
    },
    "kernelspec": {
      "name": "python3",
      "display_name": "Python 3"
    },
    "language_info": {
      "name": "python"
    }
  },
  "cells": [
    {
      "cell_type": "markdown",
      "source": [
        "**Name - Nikita Jethani**\n",
        "**Roll No - 21**\n",
        "**Class - D16AD**"
      ],
      "metadata": {
        "id": "xuxP9Dmpeh1a"
      }
    },
    {
      "cell_type": "code",
      "execution_count": null,
      "metadata": {
        "id": "FyJ4_nTngfuY"
      },
      "outputs": [],
      "source": [
        "import networkx as nx"
      ]
    },
    {
      "cell_type": "code",
      "source": [
        "import matplotlib.pyplot as plt"
      ],
      "metadata": {
        "id": "hvR_knKxhHPx"
      },
      "execution_count": null,
      "outputs": []
    },
    {
      "cell_type": "code",
      "source": [
        "g = nx.Graph()"
      ],
      "metadata": {
        "id": "m5gqjsAphQut"
      },
      "execution_count": null,
      "outputs": []
    },
    {
      "cell_type": "code",
      "source": [
        "g.add_edge(1, 2)\n",
        "g.add_edge(2, 3)\n",
        "g.add_edge(3, 4)\n",
        "g.add_edge(1, 4)\n",
        "g.add_edge(1, 5)\n",
        "\n",
        "nx.draw(g, with_labels = True)"
      ],
      "metadata": {
        "colab": {
          "base_uri": "https://localhost:8080/",
          "height": 516
        },
        "id": "bXdz-OnJhVx2",
        "outputId": "e8d0d555-e66a-43f1-b08c-656044d0702f"
      },
      "execution_count": null,
      "outputs": [
        {
          "output_type": "display_data",
          "data": {
            "text/plain": [
              "<Figure size 640x480 with 1 Axes>"
            ],
            "image/png": "[encoded data removed]"
          },
          "metadata": {}
        }
      ]
    },
    {
      "cell_type": "markdown",
      "source": [
        "**Centrality**"
      ],
      "metadata": {
        "id": "uf0BDl4XiVkN"
      }
    },
    {
      "cell_type": "code",
      "source": [
        "nx.degree(g)"
      ],
      "metadata": {
        "colab": {
          "base_uri": "https://localhost:8080/"
        },
        "id": "xRbT8i6Whw3B",
        "outputId": "600e48e5-de99-4ddc-a8d8-51a095d06005"
      },
      "execution_count": null,
      "outputs": [
        {
          "output_type": "execute_result",
          "data": {
            "text/plain": [
              "DegreeView({1: 3, 2: 2, 3: 2, 4: 2, 5: 1})"
            ]
          },
          "metadata": {},
          "execution_count": 8
        }
      ]
    },
    {
      "cell_type": "code",
      "source": [
        "nx.degree_centrality(g)"
      ],
      "metadata": {
        "colab": {
          "base_uri": "https://localhost:8080/"
        },
        "id": "x47S1xWNiZ-C",
        "outputId": "55d72553-9287-432d-8961-7064c0c26a73"
      },
      "execution_count": null,
      "outputs": [
        {
          "output_type": "execute_result",
          "data": {
            "text/plain": [
              "{1: 0.75, 2: 0.5, 3: 0.5, 4: 0.5, 5: 0.25}"
            ]
          },
          "metadata": {},
          "execution_count": 9
        }
      ]
    },
    {
      "cell_type": "markdown",
      "source": [
        "**Closeness Centrality**"
      ],
      "metadata": {
        "id": "CcftXDuUih8h"
      }
    },
    {
      "cell_type": "code",
      "source": [
        "nx.shortest_path(g, 4, 5)"
      ],
      "metadata": {
        "colab": {
          "base_uri": "https://localhost:8080/"
        },
        "id": "fVeWUJK7ienV",
        "outputId": "bd2f6733-3708-464c-c122-5821789c2d70"
      },
      "execution_count": null,
      "outputs": [
        {
          "output_type": "execute_result",
          "data": {
            "text/plain": [
              "[4, 1, 5]"
            ]
          },
          "metadata": {},
          "execution_count": 12
        }
      ]
    },
    {
      "cell_type": "markdown",
      "source": [
        "**Betweenness Centrality**"
      ],
      "metadata": {
        "id": "6rs2YF5VjEzJ"
      }
    },
    {
      "cell_type": "code",
      "source": [
        "nx.betweenness_centrality(g)"
      ],
      "metadata": {
        "colab": {
          "base_uri": "https://localhost:8080/"
        },
        "id": "WlexD77KiqsY",
        "outputId": "49f6e2f6-c5b5-46f0-b6a2-c6618f54a9b8"
      },
      "execution_count": null,
      "outputs": [
        {
          "output_type": "execute_result",
          "data": {
            "text/plain": [
              "{1: 0.5833333333333333,\n",
              " 2: 0.16666666666666666,\n",
              " 3: 0.08333333333333333,\n",
              " 4: 0.16666666666666666,\n",
              " 5: 0.0}"
            ]
          },
          "metadata": {},
          "execution_count": 13
        }
      ]
    },
    {
      "cell_type": "markdown",
      "source": [
        "**Eigen Vector Centrality**"
      ],
      "metadata": {
        "id": "krLy7t9DjG0u"
      }
    },
    {
      "cell_type": "code",
      "source": [
        "G = nx.gnp_random_graph(10, 0.5)\n",
        "nx.draw(G, with_labels = 1)\n",
        "plt.show()"
      ],
      "metadata": {
        "id": "vvypn3TFjEE5"
      },
      "execution_count": null,
      "outputs": []
    },
    {
      "cell_type": "code",
      "source": [
        "nx.clustering(G)"
      ],
      "metadata": {
        "colab": {
          "base_uri": "https://localhost:8080/"
        },
        "id": "aI5g54OzjXea",
        "outputId": "f5969f92-f8bf-47d6-fe40-404cab3a2e52"
      },
      "execution_count": null,
      "outputs": [
        {
          "output_type": "execute_result",
          "data": {
            "text/plain": [
              "{0: 0.8,\n",
              " 1: 0.6666666666666666,\n",
              " 2: 0.6,\n",
              " 3: 0.6428571428571429,\n",
              " 4: 0.8,\n",
              " 5: 0.6666666666666666,\n",
              " 6: 0.6666666666666666,\n",
              " 7: 0.6071428571428571,\n",
              " 8: 0.7,\n",
              " 9: 0.8}"
            ]
          },
          "metadata": {},
          "execution_count": 15
        }
      ]
    },
    {
      "cell_type": "markdown",
      "source": [
        "**Most influential nodes.**"
      ],
      "metadata": {
        "id": "SoY8u0wcjjMv"
      }
    },
    {
      "cell_type": "code",
      "source": [
        "most_influencial = nx.degree_centrality(G)"
      ],
      "metadata": {
        "id": "D8c_-3WVjbEv"
      },
      "execution_count": null,
      "outputs": []
    },
    {
      "cell_type": "code",
      "source": [
        "for w in sorted(most_influencial, key = most_influencial.get, reverse = True):\n",
        "  print(w, most_influencial[w])"
      ],
      "metadata": {
        "colab": {
          "base_uri": "https://localhost:8080/"
        },
        "id": "Ks2eMKE4j-SV",
        "outputId": "1280b097-29b3-43e5-ecb5-fac99ad908a4"
      },
      "execution_count": null,
      "outputs": [
        {
          "output_type": "stream",
          "name": "stdout",
          "text": [
            "3 0.8888888888888888\n",
            "7 0.8888888888888888\n",
            "1 0.7777777777777777\n",
            "5 0.7777777777777777\n",
            "0 0.6666666666666666\n",
            "2 0.5555555555555556\n",
            "4 0.5555555555555556\n",
            "8 0.5555555555555556\n",
            "9 0.5555555555555556\n",
            "6 0.4444444444444444\n"
          ]
        }
      ]
    }
  ]
}