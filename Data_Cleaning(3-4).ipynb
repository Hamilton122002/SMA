{
  "nbformat": 4,
  "nbformat_minor": 0,
  "metadata": {
    "colab": {
      "provenance": []
    },
    "kernelspec": {
      "name": "python3",
      "display_name": "Python 3"
    },
    "language_info": {
      "name": "python"
    }
  },
  "cells": [
    {
      "cell_type": "markdown",
      "source": [
        "Data Cleaning (Dataset for Cricket Tweets)"
      ],
      "metadata": {
        "id": "a8QNGtZEbhJq"
      }
    },
    {
      "cell_type": "code",
      "execution_count": null,
      "metadata": {
        "id": "JdkzYdr3Xxyj"
      },
      "outputs": [],
      "source": [
        "import pandas as pd\n",
        "import numpy as np\n",
        "import matplotlib.pyplot as plt"
      ]
    },
    {
      "cell_type": "code",
      "source": [
        "data = pd.read_csv(\"Mental-Health-Twitter.csv\")"
      ],
      "metadata": {
        "id": "5bHsGDVhboeT"
      },
      "execution_count": null,
      "outputs": []
    },
    {
      "cell_type": "code",
      "source": [
        "data.head()"
      ],
      "metadata": {
        "colab": {
          "base_uri": "https://localhost:8080/",
          "height": 310
        },
        "id": "CdC6relqbtMP",
        "outputId": "8fe80554-2bdd-4bd3-fd7c-801176cb20d2"
      },
      "execution_count": null,
      "outputs": [
        {
          "output_type": "execute_result",
          "data": {
            "text/plain": [
              "   Unnamed: 0             post_id                    post_created  \\\n",
              "0           0  637894677824413696  Sun Aug 30 07:48:37 +0000 2015   \n",
              "1           1  637890384576778240  Sun Aug 30 07:31:33 +0000 2015   \n",
              "2           2  637749345908051968  Sat Aug 29 22:11:07 +0000 2015   \n",
              "3           3  637696421077123073  Sat Aug 29 18:40:49 +0000 2015   \n",
              "4           4  637696327485366272  Sat Aug 29 18:40:26 +0000 2015   \n",
              "\n",
              "                                           post_text     user_id  followers  \\\n",
              "0  It's just over 2 years since I was diagnosed w...  1013187241         84   \n",
              "1  It's Sunday, I need a break, so I'm planning t...  1013187241         84   \n",
              "2  Awake but tired. I need to sleep but my brain ...  1013187241         84   \n",
              "3  RT @SewHQ: #Retro bears make perfect gifts and...  1013187241         84   \n",
              "4  It’s hard to say whether packing lists are mak...  1013187241         84   \n",
              "\n",
              "   friends  favourites  statuses  retweets  label  \n",
              "0      211         251       837         0      1  \n",
              "1      211         251       837         1      1  \n",
              "2      211         251       837         0      1  \n",
              "3      211         251       837         2      1  \n",
              "4      211         251       837         1      1  "
            ],
            "text/html": [
              "\n",
              "  <div id=\"df-cc084e77-02ab-4d9e-b65e-5056b0000cfb\" class=\"colab-df-container\">\n",
              "    <div>\n",
              "<style scoped>\n",
              "    .dataframe tbody tr th:only-of-type {\n",
              "        vertical-align: middle;\n",
              "    }\n",
              "\n",
              "    .dataframe tbody tr th {\n",
              "        vertical-align: top;\n",
              "    }\n",
              "\n",
              "    .dataframe thead th {\n",
              "        text-align: right;\n",
              "    }\n",
              "</style>\n",
              "<table border=\"1\" class=\"dataframe\">\n",
              "  <thead>\n",
              "    <tr style=\"text-align: right;\">\n",
              "      <th></th>\n",
              "      <th>Unnamed: 0</th>\n",
              "      <th>post_id</th>\n",
              "      <th>post_created</th>\n",
              "      <th>post_text</th>\n",
              "      <th>user_id</th>\n",
              "      <th>followers</th>\n",
              "      <th>friends</th>\n",
              "      <th>favourites</th>\n",
              "      <th>statuses</th>\n",
              "      <th>retweets</th>\n",
              "      <th>label</th>\n",
              "    </tr>\n",
              "  </thead>\n",
              "  <tbody>\n",
              "    <tr>\n",
              "      <th>0</th>\n",
              "      <td>0</td>\n",
              "      <td>637894677824413696</td>\n",
              "      <td>Sun Aug 30 07:48:37 +0000 2015</td>\n",
              "      <td>It's just over 2 years since I was diagnosed w...</td>\n",
              "      <td>1013187241</td>\n",
              "      <td>84</td>\n",
              "      <td>211</td>\n",
              "      <td>251</td>\n",
              "      <td>837</td>\n",
              "      <td>0</td>\n",
              "      <td>1</td>\n",
              "    </tr>\n",
              "    <tr>\n",
              "      <th>1</th>\n",
              "      <td>1</td>\n",
              "      <td>637890384576778240</td>\n",
              "      <td>Sun Aug 30 07:31:33 +0000 2015</td>\n",
              "      <td>It's Sunday, I need a break, so I'm planning t...</td>\n",
              "      <td>1013187241</td>\n",
              "      <td>84</td>\n",
              "      <td>211</td>\n",
              "      <td>251</td>\n",
              "      <td>837</td>\n",
              "      <td>1</td>\n",
              "      <td>1</td>\n",
              "    </tr>\n",
              "    <tr>\n",
              "      <th>2</th>\n",
              "      <td>2</td>\n",
              "      <td>637749345908051968</td>\n",
              "      <td>Sat Aug 29 22:11:07 +0000 2015</td>\n",
              "      <td>Awake but tired. I need to sleep but my brain ...</td>\n",
              "      <td>1013187241</td>\n",
              "      <td>84</td>\n",
              "      <td>211</td>\n",
              "      <td>251</td>\n",
              "      <td>837</td>\n",
              "      <td>0</td>\n",
              "      <td>1</td>\n",
              "    </tr>\n",
              "    <tr>\n",
              "      <th>3</th>\n",
              "      <td>3</td>\n",
              "      <td>637696421077123073</td>\n",
              "      <td>Sat Aug 29 18:40:49 +0000 2015</td>\n",
              "      <td>RT @SewHQ: #Retro bears make perfect gifts and...</td>\n",
              "      <td>1013187241</td>\n",
              "      <td>84</td>\n",
              "      <td>211</td>\n",
              "      <td>251</td>\n",
              "      <td>837</td>\n",
              "      <td>2</td>\n",
              "      <td>1</td>\n",
              "    </tr>\n",
              "    <tr>\n",
              "      <th>4</th>\n",
              "      <td>4</td>\n",
              "      <td>637696327485366272</td>\n",
              "      <td>Sat Aug 29 18:40:26 +0000 2015</td>\n",
              "      <td>It’s hard to say whether packing lists are mak...</td>\n",
              "      <td>1013187241</td>\n",
              "      <td>84</td>\n",
              "      <td>211</td>\n",
              "      <td>251</td>\n",
              "      <td>837</td>\n",
              "      <td>1</td>\n",
              "      <td>1</td>\n",
              "    </tr>\n",
              "  </tbody>\n",
              "</table>\n",
              "</div>\n",
              "    <div class=\"colab-df-buttons\">\n",
              "\n",
              "  <div class=\"colab-df-container\">\n",
              "    <button class=\"colab-df-convert\" onclick=\"convertToInteractive('df-cc084e77-02ab-4d9e-b65e-5056b0000cfb')\"\n",
              "            title=\"Convert this dataframe to an interactive table.\"\n",
              "            style=\"display:none;\">\n",
              "\n",
              "  <svg xmlns=\"http://www.w3.org/2000/svg\" height=\"24px\" viewBox=\"0 -960 960 960\">\n",
              "    <path d=\"M120-120v-720h720v720H120Zm60-500h600v-160H180v160Zm220 220h160v-160H400v160Zm0 220h160v-160H400v160ZM180-400h160v-160H180v160Zm440 0h160v-160H620v160ZM180-180h160v-160H180v160Zm440 0h160v-160H620v160Z\"/>\n",
              "  </svg>\n",
              "    </button>\n",
              "\n",
              "  <style>\n",
              "    .colab-df-container {\n",
              "      display:flex;\n",
              "      gap: 12px;\n",
              "    }\n",
              "\n",
              "    .colab-df-convert {\n",
              "      background-color: #E8F0FE;\n",
              "      border: none;\n",
              "      border-radius: 50%;\n",
              "      cursor: pointer;\n",
              "      display: none;\n",
              "      fill: #1967D2;\n",
              "      height: 32px;\n",
              "      padding: 0 0 0 0;\n",
              "      width: 32px;\n",
              "    }\n",
              "\n",
              "    .colab-df-convert:hover {\n",
              "      background-color: #E2EBFA;\n",
              "      box-shadow: 0px 1px 2px rgba(60, 64, 67, 0.3), 0px 1px 3px 1px rgba(60, 64, 67, 0.15);\n",
              "      fill: #174EA6;\n",
              "    }\n",
              "\n",
              "    .colab-df-buttons div {\n",
              "      margin-bottom: 4px;\n",
              "    }\n",
              "\n",
              "    [theme=dark] .colab-df-convert {\n",
              "      background-color: #3B4455;\n",
              "      fill: #D2E3FC;\n",
              "    }\n",
              "\n",
              "    [theme=dark] .colab-df-convert:hover {\n",
              "      background-color: #434B5C;\n",
              "      box-shadow: 0px 1px 3px 1px rgba(0, 0, 0, 0.15);\n",
              "      filter: drop-shadow(0px 1px 2px rgba(0, 0, 0, 0.3));\n",
              "      fill: #FFFFFF;\n",
              "    }\n",
              "  </style>\n",
              "\n",
              "    <script>\n",
              "      const buttonEl =\n",
              "        document.querySelector('#df-cc084e77-02ab-4d9e-b65e-5056b0000cfb button.colab-df-convert');\n",
              "      buttonEl.style.display =\n",
              "        google.colab.kernel.accessAllowed ? 'block' : 'none';\n",
              "\n",
              "      async function convertToInteractive(key) {\n",
              "        const element = document.querySelector('#df-cc084e77-02ab-4d9e-b65e-5056b0000cfb');\n",
              "        const dataTable =\n",
              "          await google.colab.kernel.invokeFunction('convertToInteractive',\n",
              "                                                    [key], {});\n",
              "        if (!dataTable) return;\n",
              "\n",
              "        const docLinkHtml = 'Like what you see? Visit the ' +\n",
              "          '<a target=\"_blank\" href=https://colab.research.google.com/notebooks/data_table.ipynb>data table notebook</a>'\n",
              "          + ' to learn more about interactive tables.';\n",
              "        element.innerHTML = '';\n",
              "        dataTable['output_type'] = 'display_data';\n",
              "        await google.colab.output.renderOutput(dataTable, element);\n",
              "        const docLink = document.createElement('div');\n",
              "        docLink.innerHTML = docLinkHtml;\n",
              "        element.appendChild(docLink);\n",
              "      }\n",
              "    </script>\n",
              "  </div>\n",
              "\n",
              "\n",
              "<div id=\"df-f7ea6998-dbd2-4f78-813c-472100016b11\">\n",
              "  <button class=\"colab-df-quickchart\" onclick=\"quickchart('df-f7ea6998-dbd2-4f78-813c-472100016b11')\"\n",
              "            title=\"Suggest charts\"\n",
              "            style=\"display:none;\">\n",
              "\n",
              "<svg xmlns=\"http://www.w3.org/2000/svg\" height=\"24px\"viewBox=\"0 0 24 24\"\n",
              "     width=\"24px\">\n",
              "    <g>\n",
              "        <path d=\"M19 3H5c-1.1 0-2 .9-2 2v14c0 1.1.9 2 2 2h14c1.1 0 2-.9 2-2V5c0-1.1-.9-2-2-2zM9 17H7v-7h2v7zm4 0h-2V7h2v10zm4 0h-2v-4h2v4z\"/>\n",
              "    </g>\n",
              "</svg>\n",
              "  </button>\n",
              "\n",
              "<style>\n",
              "  .colab-df-quickchart {\n",
              "      --bg-color: #E8F0FE;\n",
              "      --fill-color: #1967D2;\n",
              "      --hover-bg-color: #E2EBFA;\n",
              "      --hover-fill-color: #174EA6;\n",
              "      --disabled-fill-color: #AAA;\n",
              "      --disabled-bg-color: #DDD;\n",
              "  }\n",
              "\n",
              "  [theme=dark] .colab-df-quickchart {\n",
              "      --bg-color: #3B4455;\n",
              "      --fill-color: #D2E3FC;\n",
              "      --hover-bg-color: #434B5C;\n",
              "      --hover-fill-color: #FFFFFF;\n",
              "      --disabled-bg-color: #3B4455;\n",
              "      --disabled-fill-color: #666;\n",
              "  }\n",
              "\n",
              "  .colab-df-quickchart {\n",
              "    background-color: var(--bg-color);\n",
              "    border: none;\n",
              "    border-radius: 50%;\n",
              "    cursor: pointer;\n",
              "    display: none;\n",
              "    fill: var(--fill-color);\n",
              "    height: 32px;\n",
              "    padding: 0;\n",
              "    width: 32px;\n",
              "  }\n",
              "\n",
              "  .colab-df-quickchart:hover {\n",
              "    background-color: var(--hover-bg-color);\n",
              "    box-shadow: 0 1px 2px rgba(60, 64, 67, 0.3), 0 1px 3px 1px rgba(60, 64, 67, 0.15);\n",
              "    fill: var(--button-hover-fill-color);\n",
              "  }\n",
              "\n",
              "  .colab-df-quickchart-complete:disabled,\n",
              "  .colab-df-quickchart-complete:disabled:hover {\n",
              "    background-color: var(--disabled-bg-color);\n",
              "    fill: var(--disabled-fill-color);\n",
              "    box-shadow: none;\n",
              "  }\n",
              "\n",
              "  .colab-df-spinner {\n",
              "    border: 2px solid var(--fill-color);\n",
              "    border-color: transparent;\n",
              "    border-bottom-color: var(--fill-color);\n",
              "    animation:\n",
              "      spin 1s steps(1) infinite;\n",
              "  }\n",
              "\n",
              "  @keyframes spin {\n",
              "    0% {\n",
              "      border-color: transparent;\n",
              "      border-bottom-color: var(--fill-color);\n",
              "      border-left-color: var(--fill-color);\n",
              "    }\n",
              "    20% {\n",
              "      border-color: transparent;\n",
              "      border-left-color: var(--fill-color);\n",
              "      border-top-color: var(--fill-color);\n",
              "    }\n",
              "    30% {\n",
              "      border-color: transparent;\n",
              "      border-left-color: var(--fill-color);\n",
              "      border-top-color: var(--fill-color);\n",
              "      border-right-color: var(--fill-color);\n",
              "    }\n",
              "    40% {\n",
              "      border-color: transparent;\n",
              "      border-right-color: var(--fill-color);\n",
              "      border-top-color: var(--fill-color);\n",
              "    }\n",
              "    60% {\n",
              "      border-color: transparent;\n",
              "      border-right-color: var(--fill-color);\n",
              "    }\n",
              "    80% {\n",
              "      border-color: transparent;\n",
              "      border-right-color: var(--fill-color);\n",
              "      border-bottom-color: var(--fill-color);\n",
              "    }\n",
              "    90% {\n",
              "      border-color: transparent;\n",
              "      border-bottom-color: var(--fill-color);\n",
              "    }\n",
              "  }\n",
              "</style>\n",
              "\n",
              "  <script>\n",
              "    async function quickchart(key) {\n",
              "      const quickchartButtonEl =\n",
              "        document.querySelector('#' + key + ' button');\n",
              "      quickchartButtonEl.disabled = true;  // To prevent multiple clicks.\n",
              "      quickchartButtonEl.classList.add('colab-df-spinner');\n",
              "      try {\n",
              "        const charts = await google.colab.kernel.invokeFunction(\n",
              "            'suggestCharts', [key], {});\n",
              "      } catch (error) {\n",
              "        console.error('Error during call to suggestCharts:', error);\n",
              "      }\n",
              "      quickchartButtonEl.classList.remove('colab-df-spinner');\n",
              "      quickchartButtonEl.classList.add('colab-df-quickchart-complete');\n",
              "    }\n",
              "    (() => {\n",
              "      let quickchartButtonEl =\n",
              "        document.querySelector('#df-f7ea6998-dbd2-4f78-813c-472100016b11 button');\n",
              "      quickchartButtonEl.style.display =\n",
              "        google.colab.kernel.accessAllowed ? 'block' : 'none';\n",
              "    })();\n",
              "  </script>\n",
              "</div>\n",
              "    </div>\n",
              "  </div>\n"
            ],
            "application/vnd.google.colaboratory.intrinsic+json": {
              "type": "dataframe",
              "variable_name": "data",
              "summary": "{\n  \"name\": \"data\",\n  \"rows\": 20000,\n  \"fields\": [\n    {\n      \"column\": \"Unnamed: 0\",\n      \"properties\": {\n        \"dtype\": \"number\",\n        \"std\": 5773,\n        \"min\": 0,\n        \"max\": 19999,\n        \"samples\": [\n          10650,\n          2041,\n          8668\n        ],\n        \"num_unique_values\": 20000,\n        \"semantic_type\": \"\",\n        \"description\": \"\"\n      }\n    },\n    {\n      \"column\": \"post_id\",\n      \"properties\": {\n        \"dtype\": \"number\",\n        \"std\": 170839623650185920,\n        \"min\": 3555966067,\n        \"max\": 819457358145273856,\n        \"samples\": [\n          286928178855940096,\n          811771009162354688,\n          818137361733349380\n        ],\n        \"num_unique_values\": 19881,\n        \"semantic_type\": \"\",\n        \"description\": \"\"\n      }\n    },\n    {\n      \"column\": \"post_created\",\n      \"properties\": {\n        \"dtype\": \"object\",\n        \"min\": \"Fri Apr 01 02:27:27 +0000 2016\",\n        \"max\": \"Wed Sep 30 21:45:43 +0000 2015\",\n        \"samples\": [\n          \"Sat Nov 14 17:53:07 +0000 2015\",\n          \"Sat Dec 31 07:35:21 +0000 2016\",\n          \"Thu Jan 05 10:13:13 +0000 2017\"\n        ],\n        \"num_unique_values\": 19102,\n        \"semantic_type\": \"\",\n        \"description\": \"\"\n      }\n    },\n    {\n      \"column\": \"post_text\",\n      \"properties\": {\n        \"dtype\": \"string\",\n        \"samples\": [\n          \"@Megafighter3 Like..we weren't even arguing about anything. I was just being silly and she thought I was being condescending.\",\n          \"Eating healthy makes you feel so good about yourself\\ud83d\\ude1c\\ud83c\\udf49\\ud83c\\udf53\\ud83c\\udf52\\ud83c\\udf4d\",\n          \"In Opinion: What Trump should say but won\\u2019t about Putin\\u2019s election cyberhack https://t.co/VKWeSn9mOC   I'm dreaming, where the voices, loud!\"\n        ],\n        \"num_unique_values\": 19488,\n        \"semantic_type\": \"\",\n        \"description\": \"\"\n      }\n    },\n    {\n      \"column\": \"user_id\",\n      \"properties\": {\n        \"dtype\": \"number\",\n        \"std\": 160608332086080448,\n        \"min\": 14724376,\n        \"max\": 763182466098233344,\n        \"samples\": [\n          2660477449,\n          2369443141,\n          377696171\n        ],\n        \"num_unique_values\": 72,\n        \"semantic_type\": \"\",\n        \"description\": \"\"\n      }\n    },\n    {\n      \"column\": \"followers\",\n      \"properties\": {\n        \"dtype\": \"number\",\n        \"std\": 1899,\n        \"min\": 0,\n        \"max\": 28614,\n        \"samples\": [\n          104,\n          84,\n          434\n        ],\n        \"num_unique_values\": 69,\n        \"semantic_type\": \"\",\n        \"description\": \"\"\n      }\n    },\n    {\n      \"column\": \"friends\",\n      \"properties\": {\n        \"dtype\": \"number\",\n        \"std\": 1834,\n        \"min\": 0,\n        \"max\": 28514,\n        \"samples\": [\n          247,\n          211,\n          988\n        ],\n        \"num_unique_values\": 70,\n        \"semantic_type\": \"\",\n        \"description\": \"\"\n      }\n    },\n    {\n      \"column\": \"favourites\",\n      \"properties\": {\n        \"dtype\": \"number\",\n        \"std\": 8393,\n        \"min\": 0,\n        \"max\": 39008,\n        \"samples\": [\n          704,\n          2228,\n          251\n        ],\n        \"num_unique_values\": 66,\n        \"semantic_type\": \"\",\n        \"description\": \"\"\n      }\n    },\n    {\n      \"column\": \"statuses\",\n      \"properties\": {\n        \"dtype\": \"number\",\n        \"std\": 140778,\n        \"min\": 3,\n        \"max\": 1063601,\n        \"samples\": [\n          1300,\n          837,\n          6694\n        ],\n        \"num_unique_values\": 71,\n        \"semantic_type\": \"\",\n        \"description\": \"\"\n      }\n    },\n    {\n      \"column\": \"retweets\",\n      \"properties\": {\n        \"dtype\": \"number\",\n        \"std\": 15119,\n        \"min\": 0,\n        \"max\": 839540,\n        \"samples\": [\n          42,\n          733,\n          128574\n        ],\n        \"num_unique_values\": 1706,\n        \"semantic_type\": \"\",\n        \"description\": \"\"\n      }\n    },\n    {\n      \"column\": \"label\",\n      \"properties\": {\n        \"dtype\": \"number\",\n        \"std\": 0,\n        \"min\": 0,\n        \"max\": 1,\n        \"samples\": [\n          0,\n          1\n        ],\n        \"num_unique_values\": 2,\n        \"semantic_type\": \"\",\n        \"description\": \"\"\n      }\n    }\n  ]\n}"
            }
          },
          "metadata": {},
          "execution_count": 10
        }
      ]
    },
    {
      "cell_type": "code",
      "source": [
        "data.shape"
      ],
      "metadata": {
        "colab": {
          "base_uri": "https://localhost:8080/"
        },
        "id": "r-kpS1vTb2bh",
        "outputId": "7d0cc770-0bce-4af3-b6af-700cc304669d"
      },
      "execution_count": null,
      "outputs": [
        {
          "output_type": "execute_result",
          "data": {
            "text/plain": [
              "(20000, 11)"
            ]
          },
          "metadata": {},
          "execution_count": 11
        }
      ]
    },
    {
      "cell_type": "code",
      "source": [
        "data.columns"
      ],
      "metadata": {
        "colab": {
          "base_uri": "https://localhost:8080/"
        },
        "id": "U7JPCIa_cl54",
        "outputId": "8f2fed76-109c-4ce7-ee0b-60cb7d8f6d87"
      },
      "execution_count": null,
      "outputs": [
        {
          "output_type": "execute_result",
          "data": {
            "text/plain": [
              "Index(['Unnamed: 0', 'post_id', 'post_created', 'post_text', 'user_id',\n",
              "       'followers', 'friends', 'favourites', 'statuses', 'retweets', 'label'],\n",
              "      dtype='object')"
            ]
          },
          "metadata": {},
          "execution_count": 12
        }
      ]
    },
    {
      "cell_type": "code",
      "source": [
        "data.info()"
      ],
      "metadata": {
        "colab": {
          "base_uri": "https://localhost:8080/"
        },
        "id": "IC0U0Hf1cnJ4",
        "outputId": "06c7e08a-f92f-45b3-f30b-3aa906a217b8"
      },
      "execution_count": null,
      "outputs": [
        {
          "output_type": "stream",
          "name": "stdout",
          "text": [
            "<class 'pandas.core.frame.DataFrame'>\n",
            "RangeIndex: 20000 entries, 0 to 19999\n",
            "Data columns (total 11 columns):\n",
            " #   Column        Non-Null Count  Dtype \n",
            "---  ------        --------------  ----- \n",
            " 0   Unnamed: 0    20000 non-null  int64 \n",
            " 1   post_id       20000 non-null  int64 \n",
            " 2   post_created  20000 non-null  object\n",
            " 3   post_text     20000 non-null  object\n",
            " 4   user_id       20000 non-null  int64 \n",
            " 5   followers     20000 non-null  int64 \n",
            " 6   friends       20000 non-null  int64 \n",
            " 7   favourites    20000 non-null  int64 \n",
            " 8   statuses      20000 non-null  int64 \n",
            " 9   retweets      20000 non-null  int64 \n",
            " 10  label         20000 non-null  int64 \n",
            "dtypes: int64(9), object(2)\n",
            "memory usage: 1.7+ MB\n"
          ]
        }
      ]
    },
    {
      "cell_type": "markdown",
      "source": [
        "Dropped Columns"
      ],
      "metadata": {
        "id": "DmLhA9Vqhm6Z"
      }
    },
    {
      "cell_type": "code",
      "source": [
        "data = data.drop(['Unnamed: 0'], axis = 1)"
      ],
      "metadata": {
        "id": "TC3iGSXMcuEo"
      },
      "execution_count": null,
      "outputs": []
    },
    {
      "cell_type": "markdown",
      "source": [
        "Date-Time format is corrected"
      ],
      "metadata": {
        "id": "U87lofKXhozx"
      }
    },
    {
      "cell_type": "code",
      "source": [
        "data['post_created'] = pd.to_datetime(data['post_created'], infer_datetime_format = True)"
      ],
      "metadata": {
        "id": "SfmcQHQZeT5J"
      },
      "execution_count": null,
      "outputs": []
    },
    {
      "cell_type": "markdown",
      "source": [
        "Weekday is introduced"
      ],
      "metadata": {
        "id": "ytpZMGnqhrfh"
      }
    },
    {
      "cell_type": "code",
      "source": [
        "data['weekday'] = data['post_created'].dt.weekday"
      ],
      "metadata": {
        "id": "WXcnV_vtehXY"
      },
      "execution_count": null,
      "outputs": []
    },
    {
      "cell_type": "markdown",
      "source": [
        "Output"
      ],
      "metadata": {
        "id": "yusJ5-56huFp"
      }
    },
    {
      "cell_type": "code",
      "source": [
        "print(data[['post_created', 'weekday']].dtypes)\n",
        "print(data[['post_created', 'weekday']])"
      ],
      "metadata": {
        "colab": {
          "base_uri": "https://localhost:8080/"
        },
        "id": "2tENCcCjerTg",
        "outputId": "432801d2-5e0e-4456-eb6b-b3eef3729e33"
      },
      "execution_count": null,
      "outputs": [
        {
          "output_type": "stream",
          "name": "stdout",
          "text": [
            "post_created    datetime64[ns, UTC]\n",
            "weekday                       int64\n",
            "dtype: object\n",
            "                   post_created  weekday\n",
            "0     2015-08-30 07:48:37+00:00        6\n",
            "1     2015-08-30 07:31:33+00:00        6\n",
            "2     2015-08-29 22:11:07+00:00        5\n",
            "3     2015-08-29 18:40:49+00:00        5\n",
            "4     2015-08-29 18:40:26+00:00        5\n",
            "...                         ...      ...\n",
            "19995 2017-01-12 00:14:56+00:00        3\n",
            "19996 2017-01-12 00:06:18+00:00        3\n",
            "19997 2017-01-12 00:05:42+00:00        3\n",
            "19998 2017-01-12 00:05:22+00:00        3\n",
            "19999 2017-01-12 00:04:47+00:00        3\n",
            "\n",
            "[20000 rows x 2 columns]\n"
          ]
        }
      ]
    },
    {
      "cell_type": "markdown",
      "source": [
        "Text is converted to lower case"
      ],
      "metadata": {
        "id": "ju0kq19FhwFB"
      }
    },
    {
      "cell_type": "code",
      "source": [
        "data[\"post_text\"] = data[\"post_text\"].apply(lambda x: \" \".join(x.lower() for x in x.split()))"
      ],
      "metadata": {
        "id": "iU7S5xMGeu4I"
      },
      "execution_count": null,
      "outputs": []
    },
    {
      "cell_type": "markdown",
      "source": [
        "Numbers are removed from the post text"
      ],
      "metadata": {
        "id": "G6sbifsdhycx"
      }
    },
    {
      "cell_type": "code",
      "source": [
        "data[\"post_text\"] = data[\"post_text\"].str.replace(\"\\d\",\"\")"
      ],
      "metadata": {
        "colab": {
          "base_uri": "https://localhost:8080/"
        },
        "id": "OHm4tFGYfCx4",
        "outputId": "b904d5ae-4d1b-4d9c-8902-c4c0eee8a60e"
      },
      "execution_count": null,
      "outputs": [
        {
          "output_type": "stream",
          "name": "stderr",
          "text": [
            "<ipython-input-23-37f8c0e50cb5>:1: FutureWarning: The default value of regex will change from True to False in a future version.\n",
            "  data[\"post_text\"] = data[\"post_text\"].str.replace(\"\\d\",\"\")\n"
          ]
        }
      ]
    },
    {
      "cell_type": "markdown",
      "source": [
        "Output"
      ],
      "metadata": {
        "id": "h4tZhM1fh1P6"
      }
    },
    {
      "cell_type": "code",
      "source": [
        "print(data['post_text'])"
      ],
      "metadata": {
        "colab": {
          "base_uri": "https://localhost:8080/"
        },
        "id": "vzqpgDIxfMhA",
        "outputId": "596230ae-af69-4282-fd99-c4b0212fec8b"
      },
      "execution_count": null,
      "outputs": [
        {
          "output_type": "stream",
          "name": "stdout",
          "text": [
            "0        it's just over  years since i was diagnosed wi...\n",
            "1        it's sunday, i need a break, so i'm planning t...\n",
            "2        awake but tired. i need to sleep but my brain ...\n",
            "3        rt @sewhq: #retro bears make perfect gifts and...\n",
            "4        it’s hard to say whether packing lists are mak...\n",
            "                               ...                        \n",
            "19995                a day without sunshine is like night.\n",
            "19996    boren's laws: () when in charge, ponder. () wh...\n",
            "19997    the flow chart is a most thoroughly oversold p...\n",
            "19998    ships are safe in harbor, but they were never ...\n",
            "19999       black holes are where god is dividing by zero.\n",
            "Name: post_text, Length: 20000, dtype: object\n"
          ]
        }
      ]
    },
    {
      "cell_type": "code",
      "source": [
        "data.to_csv('updated_twitter_dataset.csv', index=False)"
      ],
      "metadata": {
        "id": "_cYRHTOziEaQ"
      },
      "execution_count": null,
      "outputs": []
    },
    {
      "cell_type": "code",
      "source": [
        "data = data[['post_created', 'post_text', 'followers','friends', 'favourites', 'statuses', 'retweets']]\n",
        "data.head()"
      ],
      "metadata": {
        "colab": {
          "base_uri": "https://localhost:8080/",
          "height": 206
        },
        "id": "o3Foo9e7iM-j",
        "outputId": "b6a866a8-226c-41d8-bf0c-316e30a1c186"
      },
      "execution_count": null,
      "outputs": [
        {
          "output_type": "execute_result",
          "data": {
            "text/plain": [
              "               post_created  \\\n",
              "0 2015-08-30 07:48:37+00:00   \n",
              "1 2015-08-30 07:31:33+00:00   \n",
              "2 2015-08-29 22:11:07+00:00   \n",
              "3 2015-08-29 18:40:49+00:00   \n",
              "4 2015-08-29 18:40:26+00:00   \n",
              "\n",
              "                                           post_text  followers  friends  \\\n",
              "0  it's just over  years since i was diagnosed wi...         84      211   \n",
              "1  it's sunday, i need a break, so i'm planning t...         84      211   \n",
              "2  awake but tired. i need to sleep but my brain ...         84      211   \n",
              "3  rt @sewhq: #retro bears make perfect gifts and...         84      211   \n",
              "4  it’s hard to say whether packing lists are mak...         84      211   \n",
              "\n",
              "   favourites  statuses  retweets  \n",
              "0         251       837         0  \n",
              "1         251       837         1  \n",
              "2         251       837         0  \n",
              "3         251       837         2  \n",
              "4         251       837         1  "
            ],
            "text/html": [
              "\n",
              "  <div id=\"df-4d13f6a4-c300-43a0-81a9-6b8f64392c1f\" class=\"colab-df-container\">\n",
              "    <div>\n",
              "<style scoped>\n",
              "    .dataframe tbody tr th:only-of-type {\n",
              "        vertical-align: middle;\n",
              "    }\n",
              "\n",
              "    .dataframe tbody tr th {\n",
              "        vertical-align: top;\n",
              "    }\n",
              "\n",
              "    .dataframe thead th {\n",
              "        text-align: right;\n",
              "    }\n",
              "</style>\n",
              "<table border=\"1\" class=\"dataframe\">\n",
              "  <thead>\n",
              "    <tr style=\"text-align: right;\">\n",
              "      <th></th>\n",
              "      <th>post_created</th>\n",
              "      <th>post_text</th>\n",
              "      <th>followers</th>\n",
              "      <th>friends</th>\n",
              "      <th>favourites</th>\n",
              "      <th>statuses</th>\n",
              "      <th>retweets</th>\n",
              "    </tr>\n",
              "  </thead>\n",
              "  <tbody>\n",
              "    <tr>\n",
              "      <th>0</th>\n",
              "      <td>2015-08-30 07:48:37+00:00</td>\n",
              "      <td>it's just over  years since i was diagnosed wi...</td>\n",
              "      <td>84</td>\n",
              "      <td>211</td>\n",
              "      <td>251</td>\n",
              "      <td>837</td>\n",
              "      <td>0</td>\n",
              "    </tr>\n",
              "    <tr>\n",
              "      <th>1</th>\n",
              "      <td>2015-08-30 07:31:33+00:00</td>\n",
              "      <td>it's sunday, i need a break, so i'm planning t...</td>\n",
              "      <td>84</td>\n",
              "      <td>211</td>\n",
              "      <td>251</td>\n",
              "      <td>837</td>\n",
              "      <td>1</td>\n",
              "    </tr>\n",
              "    <tr>\n",
              "      <th>2</th>\n",
              "      <td>2015-08-29 22:11:07+00:00</td>\n",
              "      <td>awake but tired. i need to sleep but my brain ...</td>\n",
              "      <td>84</td>\n",
              "      <td>211</td>\n",
              "      <td>251</td>\n",
              "      <td>837</td>\n",
              "      <td>0</td>\n",
              "    </tr>\n",
              "    <tr>\n",
              "      <th>3</th>\n",
              "      <td>2015-08-29 18:40:49+00:00</td>\n",
              "      <td>rt @sewhq: #retro bears make perfect gifts and...</td>\n",
              "      <td>84</td>\n",
              "      <td>211</td>\n",
              "      <td>251</td>\n",
              "      <td>837</td>\n",
              "      <td>2</td>\n",
              "    </tr>\n",
              "    <tr>\n",
              "      <th>4</th>\n",
              "      <td>2015-08-29 18:40:26+00:00</td>\n",
              "      <td>it’s hard to say whether packing lists are mak...</td>\n",
              "      <td>84</td>\n",
              "      <td>211</td>\n",
              "      <td>251</td>\n",
              "      <td>837</td>\n",
              "      <td>1</td>\n",
              "    </tr>\n",
              "  </tbody>\n",
              "</table>\n",
              "</div>\n",
              "    <div class=\"colab-df-buttons\">\n",
              "\n",
              "  <div class=\"colab-df-container\">\n",
              "    <button class=\"colab-df-convert\" onclick=\"convertToInteractive('df-4d13f6a4-c300-43a0-81a9-6b8f64392c1f')\"\n",
              "            title=\"Convert this dataframe to an interactive table.\"\n",
              "            style=\"display:none;\">\n",
              "\n",
              "  <svg xmlns=\"http://www.w3.org/2000/svg\" height=\"24px\" viewBox=\"0 -960 960 960\">\n",
              "    <path d=\"M120-120v-720h720v720H120Zm60-500h600v-160H180v160Zm220 220h160v-160H400v160Zm0 220h160v-160H400v160ZM180-400h160v-160H180v160Zm440 0h160v-160H620v160ZM180-180h160v-160H180v160Zm440 0h160v-160H620v160Z\"/>\n",
              "  </svg>\n",
              "    </button>\n",
              "\n",
              "  <style>\n",
              "    .colab-df-container {\n",
              "      display:flex;\n",
              "      gap: 12px;\n",
              "    }\n",
              "\n",
              "    .colab-df-convert {\n",
              "      background-color: #E8F0FE;\n",
              "      border: none;\n",
              "      border-radius: 50%;\n",
              "      cursor: pointer;\n",
              "      display: none;\n",
              "      fill: #1967D2;\n",
              "      height: 32px;\n",
              "      padding: 0 0 0 0;\n",
              "      width: 32px;\n",
              "    }\n",
              "\n",
              "    .colab-df-convert:hover {\n",
              "      background-color: #E2EBFA;\n",
              "      box-shadow: 0px 1px 2px rgba(60, 64, 67, 0.3), 0px 1px 3px 1px rgba(60, 64, 67, 0.15);\n",
              "      fill: #174EA6;\n",
              "    }\n",
              "\n",
              "    .colab-df-buttons div {\n",
              "      margin-bottom: 4px;\n",
              "    }\n",
              "\n",
              "    [theme=dark] .colab-df-convert {\n",
              "      background-color: #3B4455;\n",
              "      fill: #D2E3FC;\n",
              "    }\n",
              "\n",
              "    [theme=dark] .colab-df-convert:hover {\n",
              "      background-color: #434B5C;\n",
              "      box-shadow: 0px 1px 3px 1px rgba(0, 0, 0, 0.15);\n",
              "      filter: drop-shadow(0px 1px 2px rgba(0, 0, 0, 0.3));\n",
              "      fill: #FFFFFF;\n",
              "    }\n",
              "  </style>\n",
              "\n",
              "    <script>\n",
              "      const buttonEl =\n",
              "        document.querySelector('#df-4d13f6a4-c300-43a0-81a9-6b8f64392c1f button.colab-df-convert');\n",
              "      buttonEl.style.display =\n",
              "        google.colab.kernel.accessAllowed ? 'block' : 'none';\n",
              "\n",
              "      async function convertToInteractive(key) {\n",
              "        const element = document.querySelector('#df-4d13f6a4-c300-43a0-81a9-6b8f64392c1f');\n",
              "        const dataTable =\n",
              "          await google.colab.kernel.invokeFunction('convertToInteractive',\n",
              "                                                    [key], {});\n",
              "        if (!dataTable) return;\n",
              "\n",
              "        const docLinkHtml = 'Like what you see? Visit the ' +\n",
              "          '<a target=\"_blank\" href=https://colab.research.google.com/notebooks/data_table.ipynb>data table notebook</a>'\n",
              "          + ' to learn more about interactive tables.';\n",
              "        element.innerHTML = '';\n",
              "        dataTable['output_type'] = 'display_data';\n",
              "        await google.colab.output.renderOutput(dataTable, element);\n",
              "        const docLink = document.createElement('div');\n",
              "        docLink.innerHTML = docLinkHtml;\n",
              "        element.appendChild(docLink);\n",
              "      }\n",
              "    </script>\n",
              "  </div>\n",
              "\n",
              "\n",
              "<div id=\"df-d508d7b8-81da-4c63-9dbf-55811b4bf775\">\n",
              "  <button class=\"colab-df-quickchart\" onclick=\"quickchart('df-d508d7b8-81da-4c63-9dbf-55811b4bf775')\"\n",
              "            title=\"Suggest charts\"\n",
              "            style=\"display:none;\">\n",
              "\n",
              "<svg xmlns=\"http://www.w3.org/2000/svg\" height=\"24px\"viewBox=\"0 0 24 24\"\n",
              "     width=\"24px\">\n",
              "    <g>\n",
              "        <path d=\"M19 3H5c-1.1 0-2 .9-2 2v14c0 1.1.9 2 2 2h14c1.1 0 2-.9 2-2V5c0-1.1-.9-2-2-2zM9 17H7v-7h2v7zm4 0h-2V7h2v10zm4 0h-2v-4h2v4z\"/>\n",
              "    </g>\n",
              "</svg>\n",
              "  </button>\n",
              "\n",
              "<style>\n",
              "  .colab-df-quickchart {\n",
              "      --bg-color: #E8F0FE;\n",
              "      --fill-color: #1967D2;\n",
              "      --hover-bg-color: #E2EBFA;\n",
              "      --hover-fill-color: #174EA6;\n",
              "      --disabled-fill-color: #AAA;\n",
              "      --disabled-bg-color: #DDD;\n",
              "  }\n",
              "\n",
              "  [theme=dark] .colab-df-quickchart {\n",
              "      --bg-color: #3B4455;\n",
              "      --fill-color: #D2E3FC;\n",
              "      --hover-bg-color: #434B5C;\n",
              "      --hover-fill-color: #FFFFFF;\n",
              "      --disabled-bg-color: #3B4455;\n",
              "      --disabled-fill-color: #666;\n",
              "  }\n",
              "\n",
              "  .colab-df-quickchart {\n",
              "    background-color: var(--bg-color);\n",
              "    border: none;\n",
              "    border-radius: 50%;\n",
              "    cursor: pointer;\n",
              "    display: none;\n",
              "    fill: var(--fill-color);\n",
              "    height: 32px;\n",
              "    padding: 0;\n",
              "    width: 32px;\n",
              "  }\n",
              "\n",
              "  .colab-df-quickchart:hover {\n",
              "    background-color: var(--hover-bg-color);\n",
              "    box-shadow: 0 1px 2px rgba(60, 64, 67, 0.3), 0 1px 3px 1px rgba(60, 64, 67, 0.15);\n",
              "    fill: var(--button-hover-fill-color);\n",
              "  }\n",
              "\n",
              "  .colab-df-quickchart-complete:disabled,\n",
              "  .colab-df-quickchart-complete:disabled:hover {\n",
              "    background-color: var(--disabled-bg-color);\n",
              "    fill: var(--disabled-fill-color);\n",
              "    box-shadow: none;\n",
              "  }\n",
              "\n",
              "  .colab-df-spinner {\n",
              "    border: 2px solid var(--fill-color);\n",
              "    border-color: transparent;\n",
              "    border-bottom-color: var(--fill-color);\n",
              "    animation:\n",
              "      spin 1s steps(1) infinite;\n",
              "  }\n",
              "\n",
              "  @keyframes spin {\n",
              "    0% {\n",
              "      border-color: transparent;\n",
              "      border-bottom-color: var(--fill-color);\n",
              "      border-left-color: var(--fill-color);\n",
              "    }\n",
              "    20% {\n",
              "      border-color: transparent;\n",
              "      border-left-color: var(--fill-color);\n",
              "      border-top-color: var(--fill-color);\n",
              "    }\n",
              "    30% {\n",
              "      border-color: transparent;\n",
              "      border-left-color: var(--fill-color);\n",
              "      border-top-color: var(--fill-color);\n",
              "      border-right-color: var(--fill-color);\n",
              "    }\n",
              "    40% {\n",
              "      border-color: transparent;\n",
              "      border-right-color: var(--fill-color);\n",
              "      border-top-color: var(--fill-color);\n",
              "    }\n",
              "    60% {\n",
              "      border-color: transparent;\n",
              "      border-right-color: var(--fill-color);\n",
              "    }\n",
              "    80% {\n",
              "      border-color: transparent;\n",
              "      border-right-color: var(--fill-color);\n",
              "      border-bottom-color: var(--fill-color);\n",
              "    }\n",
              "    90% {\n",
              "      border-color: transparent;\n",
              "      border-bottom-color: var(--fill-color);\n",
              "    }\n",
              "  }\n",
              "</style>\n",
              "\n",
              "  <script>\n",
              "    async function quickchart(key) {\n",
              "      const quickchartButtonEl =\n",
              "        document.querySelector('#' + key + ' button');\n",
              "      quickchartButtonEl.disabled = true;  // To prevent multiple clicks.\n",
              "      quickchartButtonEl.classList.add('colab-df-spinner');\n",
              "      try {\n",
              "        const charts = await google.colab.kernel.invokeFunction(\n",
              "            'suggestCharts', [key], {});\n",
              "      } catch (error) {\n",
              "        console.error('Error during call to suggestCharts:', error);\n",
              "      }\n",
              "      quickchartButtonEl.classList.remove('colab-df-spinner');\n",
              "      quickchartButtonEl.classList.add('colab-df-quickchart-complete');\n",
              "    }\n",
              "    (() => {\n",
              "      let quickchartButtonEl =\n",
              "        document.querySelector('#df-d508d7b8-81da-4c63-9dbf-55811b4bf775 button');\n",
              "      quickchartButtonEl.style.display =\n",
              "        google.colab.kernel.accessAllowed ? 'block' : 'none';\n",
              "    })();\n",
              "  </script>\n",
              "</div>\n",
              "    </div>\n",
              "  </div>\n"
            ],
            "application/vnd.google.colaboratory.intrinsic+json": {
              "type": "dataframe",
              "variable_name": "data",
              "summary": "{\n  \"name\": \"data\",\n  \"rows\": 20000,\n  \"fields\": [\n    {\n      \"column\": \"post_created\",\n      \"properties\": {\n        \"dtype\": \"date\",\n        \"min\": \"2009-08-26 13:19:08+00:00\",\n        \"max\": \"2017-01-12 08:13:53+00:00\",\n        \"samples\": [\n          \"2015-11-14 17:53:07+00:00\",\n          \"2016-12-31 07:35:21+00:00\",\n          \"2017-01-05 10:13:13+00:00\"\n        ],\n        \"num_unique_values\": 19102,\n        \"semantic_type\": \"\",\n        \"description\": \"\"\n      }\n    },\n    {\n      \"column\": \"post_text\",\n      \"properties\": {\n        \"dtype\": \"string\",\n        \"samples\": [\n          \"@adclaidekanes i have literally never had a close this good this was amazing thank u god bc i didnt even want to go in\",\n          \"i was diagnosed with depression in th grade but i'd be damned if i wasn't the funniest mf in class.. lol\",\n          \"overcome depression: holiday safety means securing your peace of mind - http://t.co/pogiqfps | http://t.co/wbxfcwc\"\n        ],\n        \"num_unique_values\": 19467,\n        \"semantic_type\": \"\",\n        \"description\": \"\"\n      }\n    },\n    {\n      \"column\": \"followers\",\n      \"properties\": {\n        \"dtype\": \"number\",\n        \"std\": 1899,\n        \"min\": 0,\n        \"max\": 28614,\n        \"samples\": [\n          104,\n          84,\n          434\n        ],\n        \"num_unique_values\": 69,\n        \"semantic_type\": \"\",\n        \"description\": \"\"\n      }\n    },\n    {\n      \"column\": \"friends\",\n      \"properties\": {\n        \"dtype\": \"number\",\n        \"std\": 1834,\n        \"min\": 0,\n        \"max\": 28514,\n        \"samples\": [\n          247,\n          211,\n          988\n        ],\n        \"num_unique_values\": 70,\n        \"semantic_type\": \"\",\n        \"description\": \"\"\n      }\n    },\n    {\n      \"column\": \"favourites\",\n      \"properties\": {\n        \"dtype\": \"number\",\n        \"std\": 8393,\n        \"min\": 0,\n        \"max\": 39008,\n        \"samples\": [\n          704,\n          2228,\n          251\n        ],\n        \"num_unique_values\": 66,\n        \"semantic_type\": \"\",\n        \"description\": \"\"\n      }\n    },\n    {\n      \"column\": \"statuses\",\n      \"properties\": {\n        \"dtype\": \"number\",\n        \"std\": 140778,\n        \"min\": 3,\n        \"max\": 1063601,\n        \"samples\": [\n          1300,\n          837,\n          6694\n        ],\n        \"num_unique_values\": 71,\n        \"semantic_type\": \"\",\n        \"description\": \"\"\n      }\n    },\n    {\n      \"column\": \"retweets\",\n      \"properties\": {\n        \"dtype\": \"number\",\n        \"std\": 15119,\n        \"min\": 0,\n        \"max\": 839540,\n        \"samples\": [\n          42,\n          733,\n          128574\n        ],\n        \"num_unique_values\": 1706,\n        \"semantic_type\": \"\",\n        \"description\": \"\"\n      }\n    }\n  ]\n}"
            }
          },
          "metadata": {},
          "execution_count": 32
        }
      ]
    },
    {
      "source": [
        "from matplotlib import pyplot as plt\n",
        "data['followers'].plot(kind='hist', bins=20, title='followers')\n",
        "plt.gca().spines[['top', 'right',]].set_visible(False)"
      ],
      "cell_type": "code",
      "execution_count": null,
      "outputs": [
        {
          "output_type": "display_data",
          "data": {
            "text/plain": [
              "<Figure size 640x480 with 1 Axes>"
            ],
            "image/png": "[encoded data removed]"
          },
          "metadata": {}
        }
      ],
      "metadata": {
        "colab": {
          "base_uri": "https://localhost:8080/",
          "height": 452
        },
        "id": "PrmpbTgPok7i",
        "outputId": "1af61dee-cd50-4e97-ba3a-95da3aa7157a"
      }
    },
    {
      "cell_type": "code",
      "source": [
        "data['post_created'] = pd.to_datetime(data['post_created'])\n",
        "data.head()"
      ],
      "metadata": {
        "colab": {
          "base_uri": "https://localhost:8080/",
          "height": 206
        },
        "id": "BRjORu7ooZGg",
        "outputId": "4c0cbd6a-98d9-4c6b-c38a-4765da71b636"
      },
      "execution_count": null,
      "outputs": [
        {
          "output_type": "execute_result",
          "data": {
            "text/plain": [
              "               post_created  \\\n",
              "0 2015-08-30 07:48:37+00:00   \n",
              "1 2015-08-30 07:31:33+00:00   \n",
              "2 2015-08-29 22:11:07+00:00   \n",
              "3 2015-08-29 18:40:49+00:00   \n",
              "4 2015-08-29 18:40:26+00:00   \n",
              "\n",
              "                                           post_text  followers  friends  \\\n",
              "0  it's just over  years since i was diagnosed wi...         84      211   \n",
              "1  it's sunday, i need a break, so i'm planning t...         84      211   \n",
              "2  awake but tired. i need to sleep but my brain ...         84      211   \n",
              "3  rt @sewhq: #retro bears make perfect gifts and...         84      211   \n",
              "4  it’s hard to say whether packing lists are mak...         84      211   \n",
              "\n",
              "   favourites  statuses  retweets  \n",
              "0         251       837         0  \n",
              "1         251       837         1  \n",
              "2         251       837         0  \n",
              "3         251       837         2  \n",
              "4         251       837         1  "
            ],
            "text/html": [
              "\n",
              "  <div id=\"df-94ffc415-f9ad-4dc9-a72b-5684170d6752\" class=\"colab-df-container\">\n",
              "    <div>\n",
              "<style scoped>\n",
              "    .dataframe tbody tr th:only-of-type {\n",
              "        vertical-align: middle;\n",
              "    }\n",
              "\n",
              "    .dataframe tbody tr th {\n",
              "        vertical-align: top;\n",
              "    }\n",
              "\n",
              "    .dataframe thead th {\n",
              "        text-align: right;\n",
              "    }\n",
              "</style>\n",
              "<table border=\"1\" class=\"dataframe\">\n",
              "  <thead>\n",
              "    <tr style=\"text-align: right;\">\n",
              "      <th></th>\n",
              "      <th>post_created</th>\n",
              "      <th>post_text</th>\n",
              "      <th>followers</th>\n",
              "      <th>friends</th>\n",
              "      <th>favourites</th>\n",
              "      <th>statuses</th>\n",
              "      <th>retweets</th>\n",
              "    </tr>\n",
              "  </thead>\n",
              "  <tbody>\n",
              "    <tr>\n",
              "      <th>0</th>\n",
              "      <td>2015-08-30 07:48:37+00:00</td>\n",
              "      <td>it's just over  years since i was diagnosed wi...</td>\n",
              "      <td>84</td>\n",
              "      <td>211</td>\n",
              "      <td>251</td>\n",
              "      <td>837</td>\n",
              "      <td>0</td>\n",
              "    </tr>\n",
              "    <tr>\n",
              "      <th>1</th>\n",
              "      <td>2015-08-30 07:31:33+00:00</td>\n",
              "      <td>it's sunday, i need a break, so i'm planning t...</td>\n",
              "      <td>84</td>\n",
              "      <td>211</td>\n",
              "      <td>251</td>\n",
              "      <td>837</td>\n",
              "      <td>1</td>\n",
              "    </tr>\n",
              "    <tr>\n",
              "      <th>2</th>\n",
              "      <td>2015-08-29 22:11:07+00:00</td>\n",
              "      <td>awake but tired. i need to sleep but my brain ...</td>\n",
              "      <td>84</td>\n",
              "      <td>211</td>\n",
              "      <td>251</td>\n",
              "      <td>837</td>\n",
              "      <td>0</td>\n",
              "    </tr>\n",
              "    <tr>\n",
              "      <th>3</th>\n",
              "      <td>2015-08-29 18:40:49+00:00</td>\n",
              "      <td>rt @sewhq: #retro bears make perfect gifts and...</td>\n",
              "      <td>84</td>\n",
              "      <td>211</td>\n",
              "      <td>251</td>\n",
              "      <td>837</td>\n",
              "      <td>2</td>\n",
              "    </tr>\n",
              "    <tr>\n",
              "      <th>4</th>\n",
              "      <td>2015-08-29 18:40:26+00:00</td>\n",
              "      <td>it’s hard to say whether packing lists are mak...</td>\n",
              "      <td>84</td>\n",
              "      <td>211</td>\n",
              "      <td>251</td>\n",
              "      <td>837</td>\n",
              "      <td>1</td>\n",
              "    </tr>\n",
              "  </tbody>\n",
              "</table>\n",
              "</div>\n",
              "    <div class=\"colab-df-buttons\">\n",
              "\n",
              "  <div class=\"colab-df-container\">\n",
              "    <button class=\"colab-df-convert\" onclick=\"convertToInteractive('df-94ffc415-f9ad-4dc9-a72b-5684170d6752')\"\n",
              "            title=\"Convert this dataframe to an interactive table.\"\n",
              "            style=\"display:none;\">\n",
              "\n",
              "  <svg xmlns=\"http://www.w3.org/2000/svg\" height=\"24px\" viewBox=\"0 -960 960 960\">\n",
              "    <path d=\"M120-120v-720h720v720H120Zm60-500h600v-160H180v160Zm220 220h160v-160H400v160Zm0 220h160v-160H400v160ZM180-400h160v-160H180v160Zm440 0h160v-160H620v160ZM180-180h160v-160H180v160Zm440 0h160v-160H620v160Z\"/>\n",
              "  </svg>\n",
              "    </button>\n",
              "\n",
              "  <style>\n",
              "    .colab-df-container {\n",
              "      display:flex;\n",
              "      gap: 12px;\n",
              "    }\n",
              "\n",
              "    .colab-df-convert {\n",
              "      background-color: #E8F0FE;\n",
              "      border: none;\n",
              "      border-radius: 50%;\n",
              "      cursor: pointer;\n",
              "      display: none;\n",
              "      fill: #1967D2;\n",
              "      height: 32px;\n",
              "      padding: 0 0 0 0;\n",
              "      width: 32px;\n",
              "    }\n",
              "\n",
              "    .colab-df-convert:hover {\n",
              "      background-color: #E2EBFA;\n",
              "      box-shadow: 0px 1px 2px rgba(60, 64, 67, 0.3), 0px 1px 3px 1px rgba(60, 64, 67, 0.15);\n",
              "      fill: #174EA6;\n",
              "    }\n",
              "\n",
              "    .colab-df-buttons div {\n",
              "      margin-bottom: 4px;\n",
              "    }\n",
              "\n",
              "    [theme=dark] .colab-df-convert {\n",
              "      background-color: #3B4455;\n",
              "      fill: #D2E3FC;\n",
              "    }\n",
              "\n",
              "    [theme=dark] .colab-df-convert:hover {\n",
              "      background-color: #434B5C;\n",
              "      box-shadow: 0px 1px 3px 1px rgba(0, 0, 0, 0.15);\n",
              "      filter: drop-shadow(0px 1px 2px rgba(0, 0, 0, 0.3));\n",
              "      fill: #FFFFFF;\n",
              "    }\n",
              "  </style>\n",
              "\n",
              "    <script>\n",
              "      const buttonEl =\n",
              "        document.querySelector('#df-94ffc415-f9ad-4dc9-a72b-5684170d6752 button.colab-df-convert');\n",
              "      buttonEl.style.display =\n",
              "        google.colab.kernel.accessAllowed ? 'block' : 'none';\n",
              "\n",
              "      async function convertToInteractive(key) {\n",
              "        const element = document.querySelector('#df-94ffc415-f9ad-4dc9-a72b-5684170d6752');\n",
              "        const dataTable =\n",
              "          await google.colab.kernel.invokeFunction('convertToInteractive',\n",
              "                                                    [key], {});\n",
              "        if (!dataTable) return;\n",
              "\n",
              "        const docLinkHtml = 'Like what you see? Visit the ' +\n",
              "          '<a target=\"_blank\" href=https://colab.research.google.com/notebooks/data_table.ipynb>data table notebook</a>'\n",
              "          + ' to learn more about interactive tables.';\n",
              "        element.innerHTML = '';\n",
              "        dataTable['output_type'] = 'display_data';\n",
              "        await google.colab.output.renderOutput(dataTable, element);\n",
              "        const docLink = document.createElement('div');\n",
              "        docLink.innerHTML = docLinkHtml;\n",
              "        element.appendChild(docLink);\n",
              "      }\n",
              "    </script>\n",
              "  </div>\n",
              "\n",
              "\n",
              "<div id=\"df-2ee69eb5-cbc5-4039-aba6-51c8061f1aa4\">\n",
              "  <button class=\"colab-df-quickchart\" onclick=\"quickchart('df-2ee69eb5-cbc5-4039-aba6-51c8061f1aa4')\"\n",
              "            title=\"Suggest charts\"\n",
              "            style=\"display:none;\">\n",
              "\n",
              "<svg xmlns=\"http://www.w3.org/2000/svg\" height=\"24px\"viewBox=\"0 0 24 24\"\n",
              "     width=\"24px\">\n",
              "    <g>\n",
              "        <path d=\"M19 3H5c-1.1 0-2 .9-2 2v14c0 1.1.9 2 2 2h14c1.1 0 2-.9 2-2V5c0-1.1-.9-2-2-2zM9 17H7v-7h2v7zm4 0h-2V7h2v10zm4 0h-2v-4h2v4z\"/>\n",
              "    </g>\n",
              "</svg>\n",
              "  </button>\n",
              "\n",
              "<style>\n",
              "  .colab-df-quickchart {\n",
              "      --bg-color: #E8F0FE;\n",
              "      --fill-color: #1967D2;\n",
              "      --hover-bg-color: #E2EBFA;\n",
              "      --hover-fill-color: #174EA6;\n",
              "      --disabled-fill-color: #AAA;\n",
              "      --disabled-bg-color: #DDD;\n",
              "  }\n",
              "\n",
              "  [theme=dark] .colab-df-quickchart {\n",
              "      --bg-color: #3B4455;\n",
              "      --fill-color: #D2E3FC;\n",
              "      --hover-bg-color: #434B5C;\n",
              "      --hover-fill-color: #FFFFFF;\n",
              "      --disabled-bg-color: #3B4455;\n",
              "      --disabled-fill-color: #666;\n",
              "  }\n",
              "\n",
              "  .colab-df-quickchart {\n",
              "    background-color: var(--bg-color);\n",
              "    border: none;\n",
              "    border-radius: 50%;\n",
              "    cursor: pointer;\n",
              "    display: none;\n",
              "    fill: var(--fill-color);\n",
              "    height: 32px;\n",
              "    padding: 0;\n",
              "    width: 32px;\n",
              "  }\n",
              "\n",
              "  .colab-df-quickchart:hover {\n",
              "    background-color: var(--hover-bg-color);\n",
              "    box-shadow: 0 1px 2px rgba(60, 64, 67, 0.3), 0 1px 3px 1px rgba(60, 64, 67, 0.15);\n",
              "    fill: var(--button-hover-fill-color);\n",
              "  }\n",
              "\n",
              "  .colab-df-quickchart-complete:disabled,\n",
              "  .colab-df-quickchart-complete:disabled:hover {\n",
              "    background-color: var(--disabled-bg-color);\n",
              "    fill: var(--disabled-fill-color);\n",
              "    box-shadow: none;\n",
              "  }\n",
              "\n",
              "  .colab-df-spinner {\n",
              "    border: 2px solid var(--fill-color);\n",
              "    border-color: transparent;\n",
              "    border-bottom-color: var(--fill-color);\n",
              "    animation:\n",
              "      spin 1s steps(1) infinite;\n",
              "  }\n",
              "\n",
              "  @keyframes spin {\n",
              "    0% {\n",
              "      border-color: transparent;\n",
              "      border-bottom-color: var(--fill-color);\n",
              "      border-left-color: var(--fill-color);\n",
              "    }\n",
              "    20% {\n",
              "      border-color: transparent;\n",
              "      border-left-color: var(--fill-color);\n",
              "      border-top-color: var(--fill-color);\n",
              "    }\n",
              "    30% {\n",
              "      border-color: transparent;\n",
              "      border-left-color: var(--fill-color);\n",
              "      border-top-color: var(--fill-color);\n",
              "      border-right-color: var(--fill-color);\n",
              "    }\n",
              "    40% {\n",
              "      border-color: transparent;\n",
              "      border-right-color: var(--fill-color);\n",
              "      border-top-color: var(--fill-color);\n",
              "    }\n",
              "    60% {\n",
              "      border-color: transparent;\n",
              "      border-right-color: var(--fill-color);\n",
              "    }\n",
              "    80% {\n",
              "      border-color: transparent;\n",
              "      border-right-color: var(--fill-color);\n",
              "      border-bottom-color: var(--fill-color);\n",
              "    }\n",
              "    90% {\n",
              "      border-color: transparent;\n",
              "      border-bottom-color: var(--fill-color);\n",
              "    }\n",
              "  }\n",
              "</style>\n",
              "\n",
              "  <script>\n",
              "    async function quickchart(key) {\n",
              "      const quickchartButtonEl =\n",
              "        document.querySelector('#' + key + ' button');\n",
              "      quickchartButtonEl.disabled = true;  // To prevent multiple clicks.\n",
              "      quickchartButtonEl.classList.add('colab-df-spinner');\n",
              "      try {\n",
              "        const charts = await google.colab.kernel.invokeFunction(\n",
              "            'suggestCharts', [key], {});\n",
              "      } catch (error) {\n",
              "        console.error('Error during call to suggestCharts:', error);\n",
              "      }\n",
              "      quickchartButtonEl.classList.remove('colab-df-spinner');\n",
              "      quickchartButtonEl.classList.add('colab-df-quickchart-complete');\n",
              "    }\n",
              "    (() => {\n",
              "      let quickchartButtonEl =\n",
              "        document.querySelector('#df-2ee69eb5-cbc5-4039-aba6-51c8061f1aa4 button');\n",
              "      quickchartButtonEl.style.display =\n",
              "        google.colab.kernel.accessAllowed ? 'block' : 'none';\n",
              "    })();\n",
              "  </script>\n",
              "</div>\n",
              "    </div>\n",
              "  </div>\n"
            ],
            "application/vnd.google.colaboratory.intrinsic+json": {
              "type": "dataframe",
              "variable_name": "data",
              "summary": "{\n  \"name\": \"data\",\n  \"rows\": 20000,\n  \"fields\": [\n    {\n      \"column\": \"post_created\",\n      \"properties\": {\n        \"dtype\": \"date\",\n        \"min\": \"2009-08-26 13:19:08+00:00\",\n        \"max\": \"2017-01-12 08:13:53+00:00\",\n        \"samples\": [\n          \"2015-11-14 17:53:07+00:00\",\n          \"2016-12-31 07:35:21+00:00\",\n          \"2017-01-05 10:13:13+00:00\"\n        ],\n        \"num_unique_values\": 19102,\n        \"semantic_type\": \"\",\n        \"description\": \"\"\n      }\n    },\n    {\n      \"column\": \"post_text\",\n      \"properties\": {\n        \"dtype\": \"string\",\n        \"samples\": [\n          \"@adclaidekanes i have literally never had a close this good this was amazing thank u god bc i didnt even want to go in\",\n          \"i was diagnosed with depression in th grade but i'd be damned if i wasn't the funniest mf in class.. lol\",\n          \"overcome depression: holiday safety means securing your peace of mind - http://t.co/pogiqfps | http://t.co/wbxfcwc\"\n        ],\n        \"num_unique_values\": 19467,\n        \"semantic_type\": \"\",\n        \"description\": \"\"\n      }\n    },\n    {\n      \"column\": \"followers\",\n      \"properties\": {\n        \"dtype\": \"number\",\n        \"std\": 1899,\n        \"min\": 0,\n        \"max\": 28614,\n        \"samples\": [\n          104,\n          84,\n          434\n        ],\n        \"num_unique_values\": 69,\n        \"semantic_type\": \"\",\n        \"description\": \"\"\n      }\n    },\n    {\n      \"column\": \"friends\",\n      \"properties\": {\n        \"dtype\": \"number\",\n        \"std\": 1834,\n        \"min\": 0,\n        \"max\": 28514,\n        \"samples\": [\n          247,\n          211,\n          988\n        ],\n        \"num_unique_values\": 70,\n        \"semantic_type\": \"\",\n        \"description\": \"\"\n      }\n    },\n    {\n      \"column\": \"favourites\",\n      \"properties\": {\n        \"dtype\": \"number\",\n        \"std\": 8393,\n        \"min\": 0,\n        \"max\": 39008,\n        \"samples\": [\n          704,\n          2228,\n          251\n        ],\n        \"num_unique_values\": 66,\n        \"semantic_type\": \"\",\n        \"description\": \"\"\n      }\n    },\n    {\n      \"column\": \"statuses\",\n      \"properties\": {\n        \"dtype\": \"number\",\n        \"std\": 140778,\n        \"min\": 3,\n        \"max\": 1063601,\n        \"samples\": [\n          1300,\n          837,\n          6694\n        ],\n        \"num_unique_values\": 71,\n        \"semantic_type\": \"\",\n        \"description\": \"\"\n      }\n    },\n    {\n      \"column\": \"retweets\",\n      \"properties\": {\n        \"dtype\": \"number\",\n        \"std\": 15119,\n        \"min\": 0,\n        \"max\": 839540,\n        \"samples\": [\n          42,\n          733,\n          128574\n        ],\n        \"num_unique_values\": 1706,\n        \"semantic_type\": \"\",\n        \"description\": \"\"\n      }\n    }\n  ]\n}"
            }
          },
          "metadata": {},
          "execution_count": 33
        }
      ]
    },
    {
      "source": [
        "from matplotlib import pyplot as plt\n",
        "import seaborn as sns\n",
        "def _plot_series(series, series_name, series_index=0):\n",
        "  from matplotlib import pyplot as plt\n",
        "  import seaborn as sns\n",
        "  palette = list(sns.palettes.mpl_palette('Dark2'))\n",
        "  xs = series['post_created']\n",
        "  ys = series['friends']\n",
        "\n",
        "  plt.plot(xs, ys, label=series_name, color=palette[series_index % len(palette)])\n",
        "\n",
        "fig, ax = plt.subplots(figsize=(10, 5.2), layout='constrained')\n",
        "df_sorted = data.sort_values('post_created', ascending=True)\n",
        "_plot_series(df_sorted, '')\n",
        "sns.despine(fig=fig, ax=ax)\n",
        "plt.xlabel('post_created')\n",
        "_ = plt.ylabel('friends')"
      ],
      "cell_type": "code",
      "execution_count": null,
      "outputs": [
        {
          "output_type": "display_data",
          "data": {
            "text/plain": [
              "<Figure size 1000x520 with 1 Axes>"
            ],
            "image/png": "[encoded data removed]"
          },
          "metadata": {}
        }
      ],
      "metadata": {
        "colab": {
          "base_uri": "https://localhost:8080/",
          "height": 548
        },
        "id": "Qyxlk8OFpjAj",
        "outputId": "bf7acbc6-e011-41ae-ea59-90549b6a8ef7"
      }
    },
    {
      "source": [
        "from matplotlib import pyplot as plt\n",
        "data['favourites'].plot(kind='line', figsize=(8, 4), title='favourites')\n",
        "plt.gca().spines[['top', 'right']].set_visible(False)"
      ],
      "cell_type": "code",
      "execution_count": null,
      "outputs": [
        {
          "output_type": "display_data",
          "data": {
            "text/plain": [
              "<Figure size 800x400 with 1 Axes>"
            ],
            "image/png": "[encoded data removed]"
          },
          "metadata": {}
        }
      ],
      "metadata": {
        "colab": {
          "base_uri": "https://localhost:8080/",
          "height": 391
        },
        "id": "Yp7FGBJlpCBA",
        "outputId": "1e9bc96e-36e6-4ccf-f317-e4e405fb2bf2"
      }
    },
    {
      "source": [
        "from matplotlib import pyplot as plt\n",
        "data.plot(kind='scatter', x='favourites', y='statuses', s=32, alpha=.8)\n",
        "plt.gca().spines[['top', 'right',]].set_visible(False)"
      ],
      "cell_type": "code",
      "execution_count": null,
      "outputs": [
        {
          "output_type": "display_data",
          "data": {
            "text/plain": [
              "<Figure size 640x480 with 1 Axes>"
            ],
            "image/png": "[encoded data removed]"
          },
          "metadata": {}
        }
      ],
      "metadata": {
        "colab": {
          "base_uri": "https://localhost:8080/",
          "height": 465
        },
        "id": "M5HQZpnsosiq",
        "outputId": "91446a57-2702-40c6-c56e-61f545adf528"
      }
    },
    {
      "cell_type": "code",
      "source": [],
      "metadata": {
        "id": "m4lrJ5qRoh33"
      },
      "execution_count": null,
      "outputs": []
    }
  ]
}